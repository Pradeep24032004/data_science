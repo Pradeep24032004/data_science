{
  "nbformat": 4,
  "nbformat_minor": 0,
  "metadata": {
    "colab": {
      "provenance": [],
      "authorship_tag": "ABX9TyOPfPNqyenBc8jiMvHPoC1U",
      "include_colab_link": true
    },
    "kernelspec": {
      "name": "python3",
      "display_name": "Python 3"
    },
    "language_info": {
      "name": "python"
    }
  },
  "cells": [
    {
      "cell_type": "markdown",
      "metadata": {
        "id": "view-in-github",
        "colab_type": "text"
      },
      "source": [
        "<a href=\"https://colab.research.google.com/github/Pradeep24032004/data_science/blob/main/numpyBasics.ipynb\" target=\"_parent\"><img src=\"https://colab.research.google.com/assets/colab-badge.svg\" alt=\"Open In Colab\"/></a>"
      ]
    },
    {
      "cell_type": "code",
      "execution_count": null,
      "metadata": {
        "colab": {
          "base_uri": "https://localhost:8080/"
        },
        "id": "Aet3OcEjgF20",
        "outputId": "d6ebb6e7-a5e1-4582-cc15-2a46bfc525f2"
      },
      "outputs": [
        {
          "output_type": "stream",
          "name": "stdout",
          "text": [
            "[ 0  1  2  3  4  5  6  7  8  9 10 11 12 13 14 15 16 17 18 19 20 21 22 23\n",
            " 24 25 26 27 28 29 30 31 32 33 34 35 36 37 38 39 40 41 42 43 44 45 46 47\n",
            " 48 49]\n"
          ]
        }
      ],
      "source": [
        "#converting list to numpy array\n",
        "import numpy as np\n",
        "list1 = list(range(50))\n",
        "array1 = np.array(list1)\n",
        "print(array1)"
      ]
    },
    {
      "cell_type": "code",
      "source": [
        "#creating a random array random\n",
        "import numpy as np\n",
        "from numpy import random\n",
        "#printing random number\n",
        "x = random.randint(1,101)\n",
        "print(x)\n",
        "#ana array of random numbers of size 5\n",
        "x1 = random.randint(1, 101, size=(5))\n",
        "print(x1)"
      ],
      "metadata": {
        "colab": {
          "base_uri": "https://localhost:8080/"
        },
        "id": "lD00buN4gXW6",
        "outputId": "8ca05490-c230-4925-8b7e-a40e756264c1"
      },
      "execution_count": null,
      "outputs": [
        {
          "output_type": "stream",
          "name": "stdout",
          "text": [
            "3\n",
            "[64 39 77 75 38]\n"
          ]
        }
      ]
    },
    {
      "cell_type": "code",
      "source": [
        "#creating a 2D array\n",
        "x2 = random.randint(1, 101, size=(5, 4))\n",
        "print(\"2D array\",x2)\n",
        "#creating 3D array\n",
        "x3 = random.randint(1, 101, size= (3, 5, 4))\n",
        "print(\"3D array\", x3)\n",
        "#converting array into list\n",
        "l1 = list(x3)\n",
        "print(\"list\", l1)"
      ],
      "metadata": {
        "colab": {
          "base_uri": "https://localhost:8080/"
        },
        "id": "875Ul8PbhKZL",
        "outputId": "eb4a8c8e-90be-42f2-9370-0c0d5b82302e"
      },
      "execution_count": null,
      "outputs": [
        {
          "output_type": "stream",
          "name": "stdout",
          "text": [
            "2D array [[17 41 88 53]\n",
            " [ 2 10 73 49]\n",
            " [42  4 52 13]\n",
            " [37 16  9 10]\n",
            " [34 26 71 27]]\n",
            "3D array [[[ 59  71  79  82]\n",
            "  [  8  23  39  90]\n",
            "  [ 97  41  60  89]\n",
            "  [ 31  43  23  54]\n",
            "  [ 99  21  86  20]]\n",
            "\n",
            " [[ 20  86  95  69]\n",
            "  [ 89  72  31  16]\n",
            "  [ 87 100   3  40]\n",
            "  [  4  84  55  21]\n",
            "  [ 87  53   3   8]]\n",
            "\n",
            " [[ 42   8  15  82]\n",
            "  [  5  23  87  91]\n",
            "  [ 27  99  35  67]\n",
            "  [ 88  10  36  89]\n",
            "  [ 85  37  41  34]]]\n",
            "list [array([[59, 71, 79, 82],\n",
            "       [ 8, 23, 39, 90],\n",
            "       [97, 41, 60, 89],\n",
            "       [31, 43, 23, 54],\n",
            "       [99, 21, 86, 20]]), array([[ 20,  86,  95,  69],\n",
            "       [ 89,  72,  31,  16],\n",
            "       [ 87, 100,   3,  40],\n",
            "       [  4,  84,  55,  21],\n",
            "       [ 87,  53,   3,   8]]), array([[42,  8, 15, 82],\n",
            "       [ 5, 23, 87, 91],\n",
            "       [27, 99, 35, 67],\n",
            "       [88, 10, 36, 89],\n",
            "       [85, 37, 41, 34]])]\n"
          ]
        }
      ]
    },
    {
      "cell_type": "code",
      "source": [
        "import numpy as np\n",
        "a = np.array([[9,2], [3, 4]])\n",
        "a = a + 1\n",
        "print(a)\n",
        "print(\"sum is\", a.sum())\n",
        "print(\"data type:\", a.dtype)\n",
        "#converting data types\n",
        "a1 = np.array([1, 2], dtype = float)\n",
        "print(a1, \"data type:\", a1.dtype)"
      ],
      "metadata": {
        "id": "tbF53e4ZiOch",
        "colab": {
          "base_uri": "https://localhost:8080/"
        },
        "outputId": "ea1c117c-9fd6-4192-d33d-e2e1e904bad4"
      },
      "execution_count": null,
      "outputs": [
        {
          "output_type": "stream",
          "name": "stdout",
          "text": [
            "[[10  3]\n",
            " [ 4  5]]\n",
            "sum is 22\n",
            "data type: int64\n",
            "[1. 2.] data type: float64\n"
          ]
        }
      ]
    },
    {
      "cell_type": "code",
      "source": [
        "#summing up two arrays\n",
        "import numpy as np\n",
        "arr1 = np.array([[4, 7], [2, 6]], dtype = np.float64)\n",
        "arr2 = np.array([[3, 6], [2, 8]], dtype = np.float64)\n",
        "sum = np.add(arr1, arr2)\n",
        "print(sum)\n",
        "#summing up all values in array1\n",
        "sum1 = np.sum(arr1)\n",
        "print(sum1)\n",
        "#squaring up all values in array1\n",
        "square1 = np.square(arr1)\n",
        "print(square1)\n",
        "#sqaure root of numbers\n",
        "sqrt1 = np.sqrt(arr1)\n",
        "print(sqrt1)"
      ],
      "metadata": {
        "colab": {
          "base_uri": "https://localhost:8080/"
        },
        "id": "Ts1ENdXTrRaI",
        "outputId": "d8050302-ebdc-4ccf-c59d-698a1755747d"
      },
      "execution_count": null,
      "outputs": [
        {
          "output_type": "stream",
          "name": "stdout",
          "text": [
            "[[ 7. 13.]\n",
            " [ 4. 14.]]\n",
            "19.0\n",
            "[[16. 49.]\n",
            " [ 4. 36.]]\n",
            "[[2.         2.64575131]\n",
            " [1.41421356 2.44948974]]\n"
          ]
        }
      ]
    },
    {
      "cell_type": "code",
      "source": [
        "#Transpose\n",
        "Trans_arr1 = arr1.T\n",
        "print(Trans_arr1)"
      ],
      "metadata": {
        "colab": {
          "base_uri": "https://localhost:8080/"
        },
        "id": "ZyxnRMrFsWPK",
        "outputId": "05b5caef-d6e2-4dab-9adf-056d60bce134"
      },
      "execution_count": null,
      "outputs": [
        {
          "output_type": "stream",
          "name": "stdout",
          "text": [
            "[[4. 2.]\n",
            " [7. 6.]]\n"
          ]
        }
      ]
    },
    {
      "cell_type": "code",
      "source": [
        "#creating an array using Array function\n",
        "import numpy as np\n",
        "print(np.arange(5,15))\n",
        "print(np.arange(1,30,2))\n",
        "print(np.arange(2,40,5,dtype=float))\n",
        "print(np.identity(5))\n",
        "print(np.identity(5, dtype=int))"
      ],
      "metadata": {
        "colab": {
          "base_uri": "https://localhost:8080/"
        },
        "id": "KUJ7y_NWtBV7",
        "outputId": "e3040045-b818-4304-8868-3629a459fef6"
      },
      "execution_count": null,
      "outputs": [
        {
          "output_type": "stream",
          "name": "stdout",
          "text": [
            "[ 5  6  7  8  9 10 11 12 13 14]\n",
            "[ 1  3  5  7  9 11 13 15 17 19 21 23 25 27 29]\n",
            "[ 2.  7. 12. 17. 22. 27. 32. 37.]\n",
            "[[1. 0. 0. 0. 0.]\n",
            " [0. 1. 0. 0. 0.]\n",
            " [0. 0. 1. 0. 0.]\n",
            " [0. 0. 0. 1. 0.]\n",
            " [0. 0. 0. 0. 1.]]\n",
            "[[1 0 0 0 0]\n",
            " [0 1 0 0 0]\n",
            " [0 0 1 0 0]\n",
            " [0 0 0 1 0]\n",
            " [0 0 0 0 1]]\n"
          ]
        }
      ]
    },
    {
      "cell_type": "code",
      "source": [
        "#creating an identity matrix with offset value\n",
        "print(np.eye(5, k=1, dtype=int)) #here offset value is denoted by k\n",
        "print(np.eye(5, k=-2, dtype=int))"
      ],
      "metadata": {
        "colab": {
          "base_uri": "https://localhost:8080/"
        },
        "id": "U8h-d_T-wxgK",
        "outputId": "0d218043-8acd-4da6-b3c1-d4ad02f57ff0"
      },
      "execution_count": null,
      "outputs": [
        {
          "output_type": "stream",
          "name": "stdout",
          "text": [
            "[[0 1 0 0 0]\n",
            " [0 0 1 0 0]\n",
            " [0 0 0 1 0]\n",
            " [0 0 0 0 1]\n",
            " [0 0 0 0 0]]\n",
            "[[0 0 0 0 0]\n",
            " [0 0 0 0 0]\n",
            " [1 0 0 0 0]\n",
            " [0 1 0 0 0]\n",
            " [0 0 1 0 0]]\n"
          ]
        }
      ]
    },
    {
      "cell_type": "code",
      "source": [
        "#example1\n",
        "A = [\n",
        "    [\"student1\",90,78,67,90,98],\n",
        "    [\"student2\",89,78,87,98,76],\n",
        "    [\"student3\",67,76,85,67,90],\n",
        "    [\"student4\",90,78,67,76,98],\n",
        "    [\"student5\",89,78,67,98,67]\n",
        "]\n",
        "array_1 = np.array(A)\n",
        "#accessing different things\n",
        "#array[start:stop:stepsize, start:stop:stepsize, start:stop:stepsize]\n",
        "print(array_1[:, :2])\n",
        "print(array_1[:, 1::2])\n",
        "print(array_1[::2, :])\n",
        "#finding average of a subject\n",
        "sub_1 = array_1[:,1].astype(int) #extract the second column values and converting it into int\n",
        "average = sub_1.mean()\n",
        "print(\"sub 1 average\", average)\n",
        "total_marks = array_1[:, 1:].astype(int)\n",
        "total_average= total_marks.mean()\n",
        "print(\"average of all subjects\", total_average)\n",
        "total_sum = array_1[:, 1:].astype(int)\n",
        "print(\"total sum\", total_sum.sum())\n",
        "sub_total_each_student = array_1[:, 1:].astype(int)\n",
        "total_of_each_student = sub_total_each_student.sum(axis = 1) #refers to each row if axis=1 and if axis=0 refers to each column\n",
        "print(\"total marks of each student\",total_of_each_student)\n",
        "subwise_total = sub_total_each_student.sum(axis=0)\n",
        "print(\"sub wise total\", subwise_total)\n",
        "subject_1 = array_1[:,1].astype(int)\n",
        "subject_2 = array_1[:,2].astype(int)\n",
        "print(\"if sub 1 > sub 2\", array_1[subject_1 > subject_2])\n"
      ],
      "metadata": {
        "colab": {
          "base_uri": "https://localhost:8080/"
        },
        "id": "ZM_kLC9txc0G",
        "outputId": "e9ca2c24-5672-473a-f7ef-aa1ad51737f3"
      },
      "execution_count": null,
      "outputs": [
        {
          "output_type": "stream",
          "name": "stdout",
          "text": [
            "[['student1' '90']\n",
            " ['student2' '89']\n",
            " ['student3' '67']\n",
            " ['student4' '90']\n",
            " ['student5' '89']]\n",
            "[['90' '67' '98']\n",
            " ['89' '87' '76']\n",
            " ['67' '85' '90']\n",
            " ['90' '67' '98']\n",
            " ['89' '67' '67']]\n",
            "[['student1' '90' '78' '67' '90' '98']\n",
            " ['student3' '67' '76' '85' '67' '90']\n",
            " ['student5' '89' '78' '67' '98' '67']]\n",
            "sub 1 average 85.0\n",
            "average of all subjects 81.76\n",
            "total sum 2044\n",
            "total marks of each student [423 428 385 409 399]\n",
            "sub wise total [425 388 373 429 429]\n",
            "if sub 1 > sub 2 [['student1' '90' '78' '67' '90' '98']\n",
            " ['student2' '89' '78' '87' '98' '76']\n",
            " ['student4' '90' '78' '67' '76' '98']\n",
            " ['student5' '89' '78' '67' '98' '67']]\n"
          ]
        }
      ]
    },
    {
      "cell_type": "code",
      "source": [
        "#count non zeros\n",
        "import numpy as np\n",
        "arr = np.array([0,1,2,3,0,4,5,0])\n",
        "print(np.count_nonzero(arr))\n",
        "#printing the sum of all subject wise marks of all students\n",
        "marks = np.array([[89,98,78,67,58],\n",
        "                  [68,73,81,94,100]])\n",
        "marks.sum(axis=0) #columnwise sum\n",
        "marks.sum(axis=1) #row wise sum"
      ],
      "metadata": {
        "id": "djLpzZ5vy9WV",
        "colab": {
          "base_uri": "https://localhost:8080/"
        },
        "outputId": "272e1acd-1ca4-4730-82ca-c5ea4331a244"
      },
      "execution_count": null,
      "outputs": [
        {
          "output_type": "stream",
          "name": "stdout",
          "text": [
            "5\n"
          ]
        },
        {
          "output_type": "execute_result",
          "data": {
            "text/plain": [
              "array([390, 416])"
            ]
          },
          "metadata": {},
          "execution_count": 5
        }
      ]
    },
    {
      "cell_type": "code",
      "source": [
        "#print all the values greater than 15\n",
        "sub_a = np.array([10,20,22,31,16,15])\n",
        "print(\"values greater than 15\",sub_a[sub_a > 15])\n",
        "print(\"whether elements greater than 15\", sub_a>15)\n",
        "#by using where condition\n",
        "print(\"by using where condition\",np.where(sub_a > 15))\n",
        "#printing the unique values in an array\n",
        "a = np.array(['a','a','b','c','d','d'])\n",
        "print(\"unique occurences\", np.unique(a))"
      ],
      "metadata": {
        "colab": {
          "base_uri": "https://localhost:8080/"
        },
        "id": "B2Xj17Q4vL1g",
        "outputId": "75f12023-05a1-42e4-a34b-5094dfd550fc"
      },
      "execution_count": null,
      "outputs": [
        {
          "output_type": "stream",
          "name": "stdout",
          "text": [
            "values greater than 15 [20 22 31 16]\n",
            "whether elements greater than 15 [False  True  True  True  True False]\n",
            "by using where condition (array([1, 2, 3, 4]),)\n",
            "unique occurences ['a' 'b' 'c' 'd']\n"
          ]
        }
      ]
    },
    {
      "cell_type": "code",
      "source": [],
      "metadata": {
        "id": "5pA3R5EOcQrY"
      },
      "execution_count": null,
      "outputs": []
    }
  ]
}